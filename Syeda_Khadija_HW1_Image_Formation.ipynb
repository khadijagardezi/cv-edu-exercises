{
  "nbformat": 4,
  "nbformat_minor": 0,
  "metadata": {
    "colab": {
      "provenance": [],
      "include_colab_link": true
    },
    "kernelspec": {
      "name": "python3",
      "display_name": "Python 3"
    },
    "language_info": {
      "name": "python"
    }
  },
  "cells": [
    {
      "cell_type": "markdown",
      "metadata": {
        "id": "view-in-github",
        "colab_type": "text"
      },
      "source": [
        "<a href=\"https://colab.research.google.com/github/khadijagardezi/cv-edu-exercises/blob/main/Syeda_Khadija_HW1_Image_Formation.ipynb\" target=\"_parent\"><img src=\"https://colab.research.google.com/assets/colab-badge.svg\" alt=\"Open In Colab\"/></a>"
      ]
    },
    {
      "cell_type": "markdown",
      "source": [
        "# Homework 1 - Image formation and camera model\n",
        "\n",
        "This is the first set of problems to start working on image formation, projective transformation and camera models. This Homework is a bit shorter and easier than the next ones.\n",
        "\n",
        "Addressing these problems you may want to use Chapter 6 of Hartley & Zisserman book."
      ],
      "metadata": {
        "id": "1u70hdUJCT4c"
      }
    },
    {
      "cell_type": "markdown",
      "source": [
        "## Ex 1 - Camera matrix\n",
        "\n",
        "Write a function that takes in input the camera parameters in the form of focal lenght $f$, coordinates of the principal point $p_x$ and $p_y$, pixel size $d_p$ (assuming it is square), and skew angle $\\theta$ (with default value at $\\pi/2$), and outputs the projective camera matrix $\\mathbf{P}$."
      ],
      "metadata": {
        "id": "rnSAvzpPCzWd"
      }
    },
    {
      "cell_type": "code",
      "execution_count": null,
      "metadata": {
        "colab": {
          "base_uri": "https://localhost:8080/"
        },
        "id": "dDf7rsrICTJt",
        "outputId": "1f5d1a20-2cd9-4f71-ac32-c1ee3fdffc3e"
      },
      "outputs": [
        {
          "output_type": "stream",
          "name": "stdout",
          "text": [
            "Camera Matrix:\n",
            " [[1000    0  500    0]\n",
            " [   0 1000  500    0]\n",
            " [   0    0    1    0]]\n"
          ]
        }
      ],
      "source": [
        "import numpy as np\n",
        "\n",
        "def camera_matrix(f, p_x, p_y):\n",
        "    P = np.array([[f, 0, p_x, 0],\n",
        "                  [0, f, p_y, 0],\n",
        "                  [0, 0, 1, 0]])\n",
        "    return P\n",
        "\n",
        "focal_length = 1000\n",
        "principal_point_x = 500\n",
        "principal_point_y = 500\n",
        "P = camera_matrix(focal_length, principal_point_x, principal_point_y)\n",
        "print(\"Camera Matrix:\\n\", P)\n"
      ]
    },
    {
      "cell_type": "markdown",
      "source": [
        "## Ex 2 - Projective Transformation\n",
        "\n",
        "Write a function that takes in input the camera matrix $\\mathbf{P}$ computed in Ex 1 and a set of points, and returns the projection of those points on the image plane.\n"
      ],
      "metadata": {
        "id": "9y2pgjuLi6iM"
      }
    },
    {
      "cell_type": "code",
      "source": [
        "def project_points(P, Points):\n",
        "    Points_homogeneous = np.hstack([Points, np.ones((Points.shape[0], 1))])\n",
        "\n",
        "    projected_points = Points_homogeneous @ P.T\n",
        "\n",
        "    projected_points /= projected_points[:, 2:3]\n",
        "\n",
        "    return projected_points[:, :2]\n",
        "\n",
        "\n",
        "Points = np.array([[1, 2, 3], [4, 5, 6], [7, 8, 9]])\n",
        "projected_points = project_points(P, Points)\n",
        "print(\"Projected points:\", projected_points)\n"
      ],
      "metadata": {
        "id": "_rNt_AiEi6t-",
        "colab": {
          "base_uri": "https://localhost:8080/"
        },
        "outputId": "cbfc8411-f9d2-49b2-e9f4-d7eca7c6d156"
      },
      "execution_count": null,
      "outputs": [
        {
          "output_type": "stream",
          "name": "stdout",
          "text": [
            "Projected points: [[ 833.33333333 1166.66666667]\n",
            " [1166.66666667 1333.33333333]\n",
            " [1277.77777778 1388.88888889]]\n"
          ]
        }
      ]
    },
    {
      "cell_type": "markdown",
      "source": [
        "## Ex 3 - Extrinsic Parameters\n",
        "\n",
        "Write a function that takes in input the camera matrix $\\mathbf{P}$ computed in Ex 1, the position of the camera center $\\mathbf{t}$ and the rotation of the camera frame $\\mathbf{R}$, and returns the new camera matrix $\\mathbf{G}$ comprising the extrinsic parameters.\n",
        "\n",
        "*Optional: do the same starting from Euler angles $\\omega$, $\\phi$, and $\\kappa$ instead of using the rotation matrix $\\mathbf{R}$.*"
      ],
      "metadata": {
        "id": "75qb25GJoCKv"
      }
    },
    {
      "cell_type": "code",
      "source": [
        "def extrinsic_parameters(P, camera_center, rotation_matrix):\n",
        "    C = np.hstack([rotation_matrix, camera_center.reshape(-1, 1)])\n",
        "    return C\n",
        "\n",
        "camera_center = np.array([1, 2, 3])\n",
        "rotation_matrix = np.array([[1, 0, 0], [0, 1, 0], [0, 0, 1]])\n",
        "C = extrinsic_parameters(P, camera_center, rotation_matrix)\n",
        "print(\"Extrinsic Parameters:\\n\", C)\n"
      ],
      "metadata": {
        "id": "9ii5xzpOVeYi",
        "colab": {
          "base_uri": "https://localhost:8080/"
        },
        "outputId": "b300e9ae-c32b-4660-8a74-76a544f4f55e"
      },
      "execution_count": null,
      "outputs": [
        {
          "output_type": "stream",
          "name": "stdout",
          "text": [
            "Extrinsic Parameters:\n",
            " [[1 0 0 1]\n",
            " [0 1 0 2]\n",
            " [0 0 1 3]]\n"
          ]
        }
      ]
    },
    {
      "cell_type": "markdown",
      "source": [
        "## Ex 4 - Thin lenses\n",
        "\n",
        "Write a function that takes in input a set of points in 3D space and the focal length of the lens $D$, and returns the optimal focal length $f$ of a camera in order to have a clear image.\n",
        "\n",
        "Please refer to the following image. Note that the focal length of the camera $f$ is related to the coordinate $Z'$.\n",
        "![image.png](data:image/png;base64,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)"
      ],
      "metadata": {
        "id": "HZl2o8SuDFA5"
      }
    },
    {
      "cell_type": "code",
      "source": [
        "def thin_lens(D, Z_prime):\n",
        "    f = 1 / (1 / D + 1 / Z_prime)\n",
        "    return f\n",
        "\n",
        "object_distance = 10\n",
        "image_distance = 5\n",
        "focal_length = thin_lens(object_distance, image_distance)\n",
        "print(\"Optimal Focal Length:\", focal_length)\n"
      ],
      "metadata": {
        "colab": {
          "base_uri": "https://localhost:8080/"
        },
        "id": "0H6mWolMEfTf",
        "outputId": "fe91225c-0c1a-46d8-b14e-8094e7bcb0c8"
      },
      "execution_count": null,
      "outputs": [
        {
          "output_type": "stream",
          "name": "stdout",
          "text": [
            "Optimal Focal Length: 3.333333333333333\n"
          ]
        }
      ]
    },
    {
      "cell_type": "markdown",
      "source": [
        "## Ex 5 - Field of View\n",
        "\n",
        "Write a function that takes in input the focal length $f$ of a pinhole camera, the size of the image plane as width $w$ and height $h$, and the distance of the optical center from the target plane $Z$, and returns the width $W$ and height $H$ of the field of view.\n"
      ],
      "metadata": {
        "id": "JMMujofXkTbt"
      }
    },
    {
      "cell_type": "code",
      "source": [
        "import math\n",
        "\n",
        "def field_of_view(f, w, h, distance):\n",
        "    theta = math.atan(w / (2 * f))  # Angle of view\n",
        "    W = 2 * distance * math.tan(theta)\n",
        "    H = W * h / w  # Aspect ratio\n",
        "    return W, H\n",
        "\n",
        "focal_length = 1000\n",
        "image_width = 1920\n",
        "image_height = 1080\n",
        "distance = 1000\n",
        "W, H = field_of_view(focal_length, image_width, image_height, distance)\n",
        "print(f\"Field of view width: {W} x {H}\")\n"
      ],
      "metadata": {
        "colab": {
          "base_uri": "https://localhost:8080/"
        },
        "id": "UZmwa8UYeehW",
        "outputId": "1069765d-05b2-4392-ce58-b7d0cd2acbec"
      },
      "execution_count": null,
      "outputs": [
        {
          "output_type": "stream",
          "name": "stdout",
          "text": [
            "Field of view width: 1920.0 x 1080.0\n"
          ]
        }
      ]
    },
    {
      "cell_type": "code",
      "source": [],
      "metadata": {
        "id": "RWr7TYKHqMy0"
      },
      "execution_count": null,
      "outputs": []
    },
    {
      "cell_type": "markdown",
      "source": [
        "## Ex 6 - Field of View 2\n",
        "\n",
        "Write a function that takes in input the focal lenght $f$ of a pinhole camera, the size of the image plane as width $w$ and height $h$, and the coordinates of a 3D point $P$, and returns *True* if the point can be mapped on the image, *False* otherwise.\n"
      ],
      "metadata": {
        "id": "kOKnPkD7VfrT"
      }
    },
    {
      "cell_type": "code",
      "source": [
        "def is_point_on_image(f, image_width, image_height, point_3d):\n",
        "    x, y, z = point_3d\n",
        "    u = f * x / z\n",
        "    v = f * y / z\n",
        "\n",
        "    if 0 <= u <= image_width and 0 <= v <= image_height:\n",
        "        return True\n",
        "    else:\n",
        "        return False\n",
        "\n",
        "focal_length = 1000\n",
        "image_width = 1920\n",
        "image_height = 1080\n",
        "point_3d = (500, 300, 1500)\n",
        "\n",
        "result = is_point_on_image(focal_length, image_width, image_height, point_3d)\n",
        "print(\"Point is on the image:\", result)\n"
      ],
      "metadata": {
        "colab": {
          "base_uri": "https://localhost:8080/"
        },
        "id": "8TrOohGlrs_X",
        "outputId": "54da90fa-c719-4f41-a221-3b6e5996df68"
      },
      "execution_count": null,
      "outputs": [
        {
          "output_type": "stream",
          "name": "stdout",
          "text": [
            "Point is on the image: True\n"
          ]
        }
      ]
    }
  ]
}